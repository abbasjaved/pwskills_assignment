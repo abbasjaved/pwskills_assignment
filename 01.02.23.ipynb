{
 "cells": [
  {
   "cell_type": "code",
   "execution_count": 7,
   "id": "f5f74ae0-43be-49c2-a165-742a236cc1cb",
   "metadata": {},
   "outputs": [],
   "source": [
    "d = {}"
   ]
  },
  {
   "cell_type": "code",
   "execution_count": 8,
   "id": "37de695e-6bc5-4ec5-a551-f79a795d5439",
   "metadata": {},
   "outputs": [
    {
     "data": {
      "text/plain": [
       "dict"
      ]
     },
     "execution_count": 8,
     "metadata": {},
     "output_type": "execute_result"
    }
   ],
   "source": [
    "type(d)"
   ]
  },
  {
   "cell_type": "code",
   "execution_count": 9,
   "id": "796eea4e-99ff-457e-85bb-298819190f1d",
   "metadata": {},
   "outputs": [],
   "source": [
    "d1 = {'key': \"javed\"}"
   ]
  },
  {
   "cell_type": "code",
   "execution_count": 10,
   "id": "41507280-f25a-4d40-af50-b91116f21246",
   "metadata": {},
   "outputs": [
    {
     "data": {
      "text/plain": [
       "{'key': 'javed'}"
      ]
     },
     "execution_count": 10,
     "metadata": {},
     "output_type": "execute_result"
    }
   ],
   "source": [
    "d1"
   ]
  },
  {
   "cell_type": "code",
   "execution_count": 11,
   "id": "cb09c5b8-8a25-46f9-82ff-d8b3d9e80796",
   "metadata": {},
   "outputs": [],
   "source": [
    "d2 = {'name' : \"javed\", \"email\" : \"javedabbas96@gmail.com\", \"number\" : 34234}"
   ]
  },
  {
   "cell_type": "code",
   "execution_count": 12,
   "id": "1caf6b3d-b7bc-4702-a5fe-0ff3ab4f5156",
   "metadata": {},
   "outputs": [
    {
     "data": {
      "text/plain": [
       "{'name': 'javed', 'email': 'javedabbas96@gmail.com', 'number': 34234}"
      ]
     },
     "execution_count": 12,
     "metadata": {},
     "output_type": "execute_result"
    }
   ],
   "source": [
    "d2"
   ]
  },
  {
   "cell_type": "code",
   "execution_count": 13,
   "id": "1cd0f830-1b0f-4382-b7c0-762b32760a67",
   "metadata": {},
   "outputs": [],
   "source": [
    "d3 = {234 : \"javed\"}"
   ]
  },
  {
   "cell_type": "code",
   "execution_count": 14,
   "id": "e5f532d8-98e0-4a07-a42b-2738c9ff99dd",
   "metadata": {},
   "outputs": [],
   "source": [
    "d4 = {234 : \"javed\",  True: 434}"
   ]
  },
  {
   "cell_type": "code",
   "execution_count": 15,
   "id": "f18711ba-5694-462d-b2dd-a212a2dfe1cf",
   "metadata": {},
   "outputs": [
    {
     "data": {
      "text/plain": [
       "{234: 'javed', True: 434}"
      ]
     },
     "execution_count": 15,
     "metadata": {},
     "output_type": "execute_result"
    }
   ],
   "source": [
    "d4"
   ]
  },
  {
   "cell_type": "code",
   "execution_count": 16,
   "id": "41aede8e-d8c9-4d36-89b5-ba8070fc02cc",
   "metadata": {},
   "outputs": [
    {
     "data": {
      "text/plain": [
       "'javed'"
      ]
     },
     "execution_count": 16,
     "metadata": {},
     "output_type": "execute_result"
    }
   ],
   "source": [
    "d4[234]"
   ]
  },
  {
   "cell_type": "code",
   "execution_count": 17,
   "id": "3b7c02b8-16c5-47fd-81dc-8b9fbb671882",
   "metadata": {},
   "outputs": [
    {
     "data": {
      "text/plain": [
       "434"
      ]
     },
     "execution_count": 17,
     "metadata": {},
     "output_type": "execute_result"
    }
   ],
   "source": [
    "d4[True]"
   ]
  },
  {
   "cell_type": "code",
   "execution_count": 18,
   "id": "4fab8fcb-92d1-487b-82b2-82703c084137",
   "metadata": {},
   "outputs": [
    {
     "data": {
      "text/plain": [
       "434"
      ]
     },
     "execution_count": 18,
     "metadata": {},
     "output_type": "execute_result"
    }
   ],
   "source": [
    "d4[1]"
   ]
  },
  {
   "cell_type": "code",
   "execution_count": 19,
   "id": "1af09945-6524-48b7-b4fe-f1841c180685",
   "metadata": {},
   "outputs": [],
   "source": [
    "d5 =  {'name': \"javed\", 'email' : \"javed@gamil.com\", 'name' : \"abbas\"} "
   ]
  },
  {
   "cell_type": "code",
   "execution_count": 20,
   "id": "53bed128-0abd-4d00-8846-e936c111fa79",
   "metadata": {},
   "outputs": [
    {
     "data": {
      "text/plain": [
       "{'name': 'abbas', 'email': 'javed@gamil.com'}"
      ]
     },
     "execution_count": 20,
     "metadata": {},
     "output_type": "execute_result"
    }
   ],
   "source": [
    "d5"
   ]
  },
  {
   "cell_type": "code",
   "execution_count": 21,
   "id": "6fa19b6f-b6d5-4bc7-84db-91366ebf5bdf",
   "metadata": {},
   "outputs": [
    {
     "data": {
      "text/plain": [
       "'abbas'"
      ]
     },
     "execution_count": 21,
     "metadata": {},
     "output_type": "execute_result"
    }
   ],
   "source": [
    "d5['name']"
   ]
  },
  {
   "cell_type": "code",
   "execution_count": 22,
   "id": "d2970aa2-e463-41fe-8817-05f5c4c4a701",
   "metadata": {},
   "outputs": [],
   "source": [
    "d6 ={\"company\": \"pwskills\", \"course\": [\"web dev\", \"data science\", \"java\"]}"
   ]
  },
  {
   "cell_type": "code",
   "execution_count": 23,
   "id": "9cff3522-1edc-4d22-933a-2f5e26bad52e",
   "metadata": {},
   "outputs": [
    {
     "data": {
      "text/plain": [
       "{'company': 'pwskills', 'course': ['web dev', 'data science', 'java']}"
      ]
     },
     "execution_count": 23,
     "metadata": {},
     "output_type": "execute_result"
    }
   ],
   "source": [
    "d6"
   ]
  },
  {
   "cell_type": "code",
   "execution_count": 24,
   "id": "e365ff31-f8dc-472b-b212-51b0fe33cfcd",
   "metadata": {},
   "outputs": [
    {
     "data": {
      "text/plain": [
       "['web dev', 'data science', 'java']"
      ]
     },
     "execution_count": 24,
     "metadata": {},
     "output_type": "execute_result"
    }
   ],
   "source": [
    "d6[\"course\"]"
   ]
  },
  {
   "cell_type": "code",
   "execution_count": 25,
   "id": "9a974ca1-cb82-4986-9e2f-b5fa1b9dd9ee",
   "metadata": {},
   "outputs": [
    {
     "data": {
      "text/plain": [
       "['web dev', 'data science']"
      ]
     },
     "execution_count": 25,
     "metadata": {},
     "output_type": "execute_result"
    }
   ],
   "source": [
    "d6[\"course\"][0:2]"
   ]
  },
  {
   "cell_type": "code",
   "execution_count": 9,
   "id": "a66cfcf8-50c6-4867-bbc5-17e44e99ad7d",
   "metadata": {},
   "outputs": [],
   "source": [
    "d7 = {\"number\": [ 3,4,5,32,563], \"assignment\" : (2 ,45,6,3,24,4), \"data\" : {32,23,45}, \"class_timing\": {\"java\": 4, \"data_science\": 9, \"python class\" : 8}}"
   ]
  },
  {
   "cell_type": "code",
   "execution_count": 7,
   "id": "c2b5f5a6-cb4f-4169-8edd-eb9c99e87730",
   "metadata": {},
   "outputs": [
    {
     "ename": "NameError",
     "evalue": "name 'd6' is not defined",
     "output_type": "error",
     "traceback": [
      "\u001b[0;31m---------------------------------------------------------------------------\u001b[0m",
      "\u001b[0;31mNameError\u001b[0m                                 Traceback (most recent call last)",
      "Cell \u001b[0;32mIn[7], line 1\u001b[0m\n\u001b[0;32m----> 1\u001b[0m \u001b[43md6\u001b[49m\n",
      "\u001b[0;31mNameError\u001b[0m: name 'd6' is not defined"
     ]
    }
   ],
   "source": [
    "d6"
   ]
  },
  {
   "cell_type": "code",
   "execution_count": 10,
   "id": "4b317c96-131d-48bd-aa43-5b5bdc11376f",
   "metadata": {},
   "outputs": [
    {
     "ename": "TypeError",
     "evalue": "'set' object is not subscriptable",
     "output_type": "error",
     "traceback": [
      "\u001b[0;31m---------------------------------------------------------------------------\u001b[0m",
      "\u001b[0;31mTypeError\u001b[0m                                 Traceback (most recent call last)",
      "Cell \u001b[0;32mIn[10], line 1\u001b[0m\n\u001b[0;32m----> 1\u001b[0m \u001b[43md7\u001b[49m\u001b[43m[\u001b[49m\u001b[38;5;124;43m\"\u001b[39;49m\u001b[38;5;124;43mdata\u001b[39;49m\u001b[38;5;124;43m\"\u001b[39;49m\u001b[43m]\u001b[49m\u001b[43m[\u001b[49m\u001b[38;5;241;43m1\u001b[39;49m\u001b[43m]\u001b[49m\n",
      "\u001b[0;31mTypeError\u001b[0m: 'set' object is not subscriptable"
     ]
    }
   ],
   "source": [
    "d7[\"data\"][1]"
   ]
  },
  {
   "cell_type": "code",
   "execution_count": 29,
   "id": "a63c20b8-b963-41f8-abaa-271358829f27",
   "metadata": {},
   "outputs": [],
   "source": [
    "d7['mentor'] = [\"Javed\", \"Abbas\", \"anurag\"]"
   ]
  },
  {
   "cell_type": "code",
   "execution_count": 11,
   "id": "fd826da4-d583-4978-9ede-2e4d3132a964",
   "metadata": {},
   "outputs": [
    {
     "data": {
      "text/plain": [
       "{'number': [3, 4, 5, 32, 563],\n",
       " 'assignment': (2, 45, 6, 3, 24, 4),\n",
       " 'data': {23, 32, 45},\n",
       " 'class_timing': {'java': 4, 'data_science': 9, 'python class': 8}}"
      ]
     },
     "execution_count": 11,
     "metadata": {},
     "output_type": "execute_result"
    }
   ],
   "source": [
    "d7"
   ]
  },
  {
   "cell_type": "code",
   "execution_count": 12,
   "id": "f8bd154c-e318-4af9-b2c8-1ea9c802e5ef",
   "metadata": {},
   "outputs": [],
   "source": [
    "del d7['number'] "
   ]
  },
  {
   "cell_type": "code",
   "execution_count": 13,
   "id": "0c8e9e6b-f849-4048-965f-23699802c79b",
   "metadata": {},
   "outputs": [
    {
     "data": {
      "text/plain": [
       "{'assignment': (2, 45, 6, 3, 24, 4),\n",
       " 'data': {23, 32, 45},\n",
       " 'class_timing': {'java': 4, 'data_science': 9, 'python class': 8}}"
      ]
     },
     "execution_count": 13,
     "metadata": {},
     "output_type": "execute_result"
    }
   ],
   "source": [
    "d7"
   ]
  },
  {
   "cell_type": "code",
   "execution_count": 14,
   "id": "3cc9de25-5724-405d-b935-d6e29b23e67f",
   "metadata": {},
   "outputs": [
    {
     "data": {
      "text/plain": [
       "dict_keys(['assignment', 'data', 'class_timing'])"
      ]
     },
     "execution_count": 14,
     "metadata": {},
     "output_type": "execute_result"
    }
   ],
   "source": [
    "d7.keys()"
   ]
  },
  {
   "cell_type": "code",
   "execution_count": 15,
   "id": "5fa2ab0e-ebcc-4d16-9434-95dab3719859",
   "metadata": {},
   "outputs": [
    {
     "data": {
      "text/plain": [
       "['assignment', 'data', 'class_timing']"
      ]
     },
     "execution_count": 15,
     "metadata": {},
     "output_type": "execute_result"
    }
   ],
   "source": [
    "list(d7.keys())"
   ]
  },
  {
   "cell_type": "code",
   "execution_count": 16,
   "id": "b1079f96-18e6-4408-9a81-2b23ac7d1997",
   "metadata": {},
   "outputs": [
    {
     "data": {
      "text/plain": [
       "[('assignment', (2, 45, 6, 3, 24, 4)),\n",
       " ('data', {23, 32, 45}),\n",
       " ('class_timing', {'java': 4, 'data_science': 9, 'python class': 8})]"
      ]
     },
     "execution_count": 16,
     "metadata": {},
     "output_type": "execute_result"
    }
   ],
   "source": [
    "list(d7.items())"
   ]
  },
  {
   "cell_type": "code",
   "execution_count": 17,
   "id": "3d9fa04d-ce9d-481a-aa36-19537f6d5797",
   "metadata": {},
   "outputs": [
    {
     "data": {
      "text/plain": [
       "{23, 32, 45}"
      ]
     },
     "execution_count": 17,
     "metadata": {},
     "output_type": "execute_result"
    }
   ],
   "source": [
    "d7.pop('data')"
   ]
  },
  {
   "cell_type": "code",
   "execution_count": null,
   "id": "ce1e781b-cb7a-47d6-bfbb-954362044e9b",
   "metadata": {},
   "outputs": [],
   "source": []
  },
  {
   "cell_type": "code",
   "execution_count": 18,
   "id": "f94e924d-f716-4116-b2b6-ec206e2465a2",
   "metadata": {},
   "outputs": [
    {
     "name": "stdin",
     "output_type": "stream",
     "text": [
      "Enter your marks please  70\n"
     ]
    },
    {
     "name": "stdout",
     "output_type": "stream",
     "text": [
      "you will be a part of A1 batch\n"
     ]
    }
   ],
   "source": [
    "marks = int(input(\"Enter your marks please \"))\n",
    "if marks >= 80:\n",
    "    print(\"you will be a part of A0 batch\")\n",
    "elif marks >= 60 and marks < 80:\n",
    "    print(\"you will be a part of A1 batch\")\n",
    "elif marks >=40 and marks < 60:\n",
    "    print(\"you will be part of A2 batch\")\n",
    "else:\n",
    "    print(\"you will be part of A3 batch\")"
   ]
  },
  {
   "cell_type": "code",
   "execution_count": 19,
   "id": "fa2da012-7f93-477d-89ea-71cf6dd7da60",
   "metadata": {},
   "outputs": [
    {
     "data": {
      "text/plain": [
       "int"
      ]
     },
     "execution_count": 19,
     "metadata": {},
     "output_type": "execute_result"
    }
   ],
   "source": [
    "type(marks)"
   ]
  },
  {
   "cell_type": "code",
   "execution_count": 25,
   "id": "e9aa2bb1-b185-4ad9-a3df-511ac613f4c3",
   "metadata": {},
   "outputs": [
    {
     "name": "stdin",
     "output_type": "stream",
     "text": [
      "enter price  32\n"
     ]
    },
    {
     "name": "stdout",
     "output_type": "stream",
     "text": [
      "I'll purchase\n"
     ]
    }
   ],
   "source": [
    "price = int(input(\"enter price \"))\n",
    "if price > 1000:\n",
    "    print(\"I'll not purchase\")\n",
    "else:\n",
    "    print(\"I'll purchase\")"
   ]
  },
  {
   "cell_type": "code",
   "execution_count": 27,
   "id": "f7c18478-3e35-43c1-9e63-562fb57a6090",
   "metadata": {},
   "outputs": [
    {
     "name": "stdin",
     "output_type": "stream",
     "text": [
      "enter price  2324\n"
     ]
    },
    {
     "name": "stdout",
     "output_type": "stream",
     "text": [
      "I'll not purchase\n"
     ]
    }
   ],
   "source": [
    "price = int(input(\"enter price \"))\n",
    "if price > 1000:\n",
    "    print(\"I'll not purchase\")\n",
    "    if price > 5000:\n",
    "        print(\"price is too much yr\")\n",
    "else:\n",
    "    print(\"I'll purchase\")"
   ]
  },
  {
   "cell_type": "code",
   "execution_count": 29,
   "id": "f4c148c4-76f2-44ea-a39a-3b6ab58847d0",
   "metadata": {},
   "outputs": [],
   "source": [
    "l = [1,2,3,4,5,6,7,8]"
   ]
  },
  {
   "cell_type": "code",
   "execution_count": 34,
   "id": "b72005ee-72de-4240-bbb7-5c45eabb8cdb",
   "metadata": {},
   "outputs": [
    {
     "data": {
      "text/plain": [
       "[1, 2, 3, 4, 5, 6, 7, 8]"
      ]
     },
     "execution_count": 34,
     "metadata": {},
     "output_type": "execute_result"
    }
   ],
   "source": [
    "l"
   ]
  },
  {
   "cell_type": "code",
   "execution_count": 37,
   "id": "3d057f62-eb9d-4987-987b-301f64b086a3",
   "metadata": {},
   "outputs": [
    {
     "data": {
      "text/plain": [
       "1"
      ]
     },
     "execution_count": 37,
     "metadata": {},
     "output_type": "execute_result"
    }
   ],
   "source": [
    "l[0]"
   ]
  },
  {
   "cell_type": "code",
   "execution_count": 48,
   "id": "3ef5d025-fe51-4b3f-91e1-8617af7e461d",
   "metadata": {},
   "outputs": [],
   "source": [
    "l2 = []"
   ]
  },
  {
   "cell_type": "code",
   "execution_count": 49,
   "id": "cb814e56-c8f6-44cd-b5cd-2d353c906daa",
   "metadata": {},
   "outputs": [
    {
     "data": {
      "text/plain": [
       "list"
      ]
     },
     "execution_count": 49,
     "metadata": {},
     "output_type": "execute_result"
    }
   ],
   "source": [
    "type(l2)"
   ]
  },
  {
   "cell_type": "code",
   "execution_count": 50,
   "id": "4966d47b-adf3-4b42-bcc9-0dad796dd19d",
   "metadata": {},
   "outputs": [],
   "source": [
    "l2.append(l[0]+1)"
   ]
  },
  {
   "cell_type": "code",
   "execution_count": 51,
   "id": "039da3ef-4ce0-4572-b6e9-201bd45c7ef7",
   "metadata": {},
   "outputs": [
    {
     "data": {
      "text/plain": [
       "[2]"
      ]
     },
     "execution_count": 51,
     "metadata": {},
     "output_type": "execute_result"
    }
   ],
   "source": [
    "l2"
   ]
  },
  {
   "cell_type": "code",
   "execution_count": 52,
   "id": "d90f828e-8234-49f6-b33a-de2b65d774ee",
   "metadata": {},
   "outputs": [],
   "source": [
    "l2.append(l[1]+1)"
   ]
  },
  {
   "cell_type": "code",
   "execution_count": 53,
   "id": "4989388a-58af-45de-9952-01eee24fdd8f",
   "metadata": {},
   "outputs": [
    {
     "data": {
      "text/plain": [
       "[2, 3]"
      ]
     },
     "execution_count": 53,
     "metadata": {},
     "output_type": "execute_result"
    }
   ],
   "source": [
    "l2"
   ]
  },
  {
   "cell_type": "code",
   "execution_count": 55,
   "id": "526b671f-a250-4a89-8e54-607161b6f699",
   "metadata": {},
   "outputs": [
    {
     "data": {
      "text/plain": [
       "[1, 2, 3, 4, 5, 6, 7, 8]"
      ]
     },
     "execution_count": 55,
     "metadata": {},
     "output_type": "execute_result"
    }
   ],
   "source": [
    "l"
   ]
  },
  {
   "cell_type": "code",
   "execution_count": 64,
   "id": "ab3a7145-5013-46fa-a518-b3fd6fdf6c05",
   "metadata": {},
   "outputs": [
    {
     "name": "stdout",
     "output_type": "stream",
     "text": [
      "1\n",
      "2\n",
      "3\n",
      "4\n",
      "5\n",
      "6\n",
      "7\n",
      "8\n"
     ]
    }
   ],
   "source": [
    "for i in l:\n",
    "    print(i)"
   ]
  },
  {
   "cell_type": "code",
   "execution_count": 68,
   "id": "0892e966-11b3-40ae-88b9-00ef03c6ad66",
   "metadata": {},
   "outputs": [
    {
     "name": "stdout",
     "output_type": "stream",
     "text": [
      "2\n",
      "3\n",
      "4\n",
      "5\n",
      "6\n",
      "7\n",
      "8\n",
      "9\n"
     ]
    },
    {
     "data": {
      "text/plain": [
       "[2, 3, 4, 5, 6, 7, 8, 9]"
      ]
     },
     "execution_count": 68,
     "metadata": {},
     "output_type": "execute_result"
    }
   ],
   "source": [
    "l3 = []\n",
    "for i in l:\n",
    "    print(i+1)\n",
    "    l3.append(i+1)\n",
    "l3    "
   ]
  },
  {
   "cell_type": "code",
   "execution_count": 69,
   "id": "7910ea27-fd52-4966-b3b2-56a66a0051ab",
   "metadata": {},
   "outputs": [
    {
     "data": {
      "text/plain": [
       "[2, 3, 4, 5, 6, 7, 8, 9]"
      ]
     },
     "execution_count": 69,
     "metadata": {},
     "output_type": "execute_result"
    }
   ],
   "source": [
    "l3"
   ]
  },
  {
   "cell_type": "code",
   "execution_count": 70,
   "id": "7ada51e8-d230-467f-af49-e60474d0f8c1",
   "metadata": {},
   "outputs": [],
   "source": [
    "l = [\"javed\", \"abbas\", \"pwskills\", \"course\"]"
   ]
  },
  {
   "cell_type": "code",
   "execution_count": 87,
   "id": "71ac3841-a372-4333-9a8c-2c66a714c5c3",
   "metadata": {},
   "outputs": [
    {
     "name": "stdout",
     "output_type": "stream",
     "text": [
      "javed\n",
      "abbas\n",
      "pwskills\n",
      "course\n"
     ]
    },
    {
     "data": {
      "text/plain": [
       "['JAVED', 'ABBAS', 'PWSKILLS', 'COURSE']"
      ]
     },
     "execution_count": 87,
     "metadata": {},
     "output_type": "execute_result"
    }
   ],
   "source": [
    "l1 = []\n",
    "for i in l:\n",
    "    print(i)\n",
    "    l1.append(i.upper())\n",
    "l1    "
   ]
  },
  {
   "cell_type": "code",
   "execution_count": 98,
   "id": "517a9a58-db4c-4975-8706-9961a6ad75fe",
   "metadata": {},
   "outputs": [],
   "source": [
    "l = [1, 2, 3, \"Javed\", 234.32, 3.2, \"abbas\"]"
   ]
  },
  {
   "cell_type": "code",
   "execution_count": 100,
   "id": "bfc4c1ad-5cb4-427c-9363-39b4c9d85932",
   "metadata": {},
   "outputs": [
    {
     "data": {
      "text/plain": [
       "[1, 2, 3, 'Javed', 234.32, 3.2, 'abbas']"
      ]
     },
     "execution_count": 100,
     "metadata": {},
     "output_type": "execute_result"
    }
   ],
   "source": [
    "l"
   ]
  },
  {
   "cell_type": "code",
   "execution_count": 105,
   "id": "56872084-4727-4008-b898-e6917e364f46",
   "metadata": {},
   "outputs": [],
   "source": [
    "l1 = []\n",
    "l2 = []\n",
    "for i in l:\n",
    "    if type(i) == int or type(i) == float:\n",
    "        l1.append(i)\n",
    "    else:\n",
    "        l2.append(i)  "
   ]
  },
  {
   "cell_type": "code",
   "execution_count": 106,
   "id": "9217e48d-da28-427b-806f-e5fe7a364e8c",
   "metadata": {},
   "outputs": [
    {
     "data": {
      "text/plain": [
       "[1, 2, 3, 234.32, 3.2]"
      ]
     },
     "execution_count": 106,
     "metadata": {},
     "output_type": "execute_result"
    }
   ],
   "source": [
    "l1"
   ]
  },
  {
   "cell_type": "code",
   "execution_count": 107,
   "id": "37e0244e-96eb-448f-b102-1f66c181d3a5",
   "metadata": {},
   "outputs": [
    {
     "data": {
      "text/plain": [
       "['Javed', 'abbas']"
      ]
     },
     "execution_count": 107,
     "metadata": {},
     "output_type": "execute_result"
    }
   ],
   "source": [
    "l2"
   ]
  },
  {
   "cell_type": "code",
   "execution_count": null,
   "id": "47f10027-ab8c-4915-9577-7d2d9c5e7941",
   "metadata": {},
   "outputs": [],
   "source": []
  }
 ],
 "metadata": {
  "kernelspec": {
   "display_name": "Python 3 (ipykernel)",
   "language": "python",
   "name": "python3"
  },
  "language_info": {
   "codemirror_mode": {
    "name": "ipython",
    "version": 3
   },
   "file_extension": ".py",
   "mimetype": "text/x-python",
   "name": "python",
   "nbconvert_exporter": "python",
   "pygments_lexer": "ipython3",
   "version": "3.10.8"
  }
 },
 "nbformat": 4,
 "nbformat_minor": 5
}
